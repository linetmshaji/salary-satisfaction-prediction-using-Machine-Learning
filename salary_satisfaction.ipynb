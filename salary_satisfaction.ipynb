{
  "nbformat": 4,
  "nbformat_minor": 0,
  "metadata": {
    "colab": {
      "name": "salary_satisfaction.ipynb",
      "provenance": [],
      "collapsed_sections": [],
      "authorship_tag": "ABX9TyN0fnGwAI0x0pqqqbxdtqyx",
      "include_colab_link": true
    },
    "kernelspec": {
      "name": "python3",
      "display_name": "Python 3"
    },
    "language_info": {
      "name": "python"
    }
  },
  "cells": [
    {
      "cell_type": "markdown",
      "metadata": {
        "id": "view-in-github",
        "colab_type": "text"
      },
      "source": [
        "<a href=\"https://colab.research.google.com/github/linetmshaji/salary-satisfaction-prediction-using-Machine-Learning/blob/main/salary_satisfaction.ipynb\" target=\"_parent\"><img src=\"https://colab.research.google.com/assets/colab-badge.svg\" alt=\"Open In Colab\"/></a>"
      ]
    },
    {
      "cell_type": "code",
      "metadata": {
        "id": "HYnXnNFO8fuL"
      },
      "source": [
        "import numpy as np\n",
        "import pandas as pd # data processing, CSV file I/O (e.g. pd.read_csv)\n",
        "from sklearn.preprocessing import LabelEncoder\n",
        "import matplotlib.pyplot as plt\n",
        "import seaborn as sns\n",
        "%matplotlib inline"
      ],
      "execution_count": 4,
      "outputs": []
    },
    {
      "cell_type": "code",
      "metadata": {
        "id": "iutVSNVO803L"
      },
      "source": [
        "# reading csv file using pandas \n",
        "dataset = pd.read_csv(\"salary.csv\",encoding = \"ISO-8859-1\")\n",
        "# returns first 5 rows\n",
        "#dataset.head()"
      ],
      "execution_count": 6,
      "outputs": []
    },
    {
      "cell_type": "code",
      "metadata": {
        "colab": {
          "base_uri": "https://localhost:8080/",
          "height": 419
        },
        "id": "jG_A1S2t9ZJm",
        "outputId": "1a1301bd-6f57-40b4-9466-07b0c903829b"
      },
      "source": [
        "# To print no of unique values in each columns of a dataset in ascending order\n",
        "unique_value = dataset.nunique(axis=0) \n",
        "table= pd.DataFrame()\n",
        "table['Value']= unique_value            \n",
        "table=table.sort_values('Value',ascending=False)\n",
        "table"
      ],
      "execution_count": 7,
      "outputs": [
        {
          "output_type": "execute_result",
          "data": {
            "text/html": [
              "<div>\n",
              "<style scoped>\n",
              "    .dataframe tbody tr th:only-of-type {\n",
              "        vertical-align: middle;\n",
              "    }\n",
              "\n",
              "    .dataframe tbody tr th {\n",
              "        vertical-align: top;\n",
              "    }\n",
              "\n",
              "    .dataframe thead th {\n",
              "        text-align: right;\n",
              "    }\n",
              "</style>\n",
              "<table border=\"1\" class=\"dataframe\">\n",
              "  <thead>\n",
              "    <tr style=\"text-align: right;\">\n",
              "      <th></th>\n",
              "      <th>Value</th>\n",
              "    </tr>\n",
              "  </thead>\n",
              "  <tbody>\n",
              "    <tr>\n",
              "      <th>id</th>\n",
              "      <td>2946</td>\n",
              "    </tr>\n",
              "    <tr>\n",
              "      <th>orignal_website_directory</th>\n",
              "      <td>2946</td>\n",
              "    </tr>\n",
              "    <tr>\n",
              "      <th>url</th>\n",
              "      <td>2946</td>\n",
              "    </tr>\n",
              "    <tr>\n",
              "      <th>your_favoritearticle_today</th>\n",
              "      <td>2945</td>\n",
              "    </tr>\n",
              "    <tr>\n",
              "      <th>last_pymnt_amnt</th>\n",
              "      <td>2678</td>\n",
              "    </tr>\n",
              "    <tr>\n",
              "      <th>...</th>\n",
              "      <td>...</td>\n",
              "    </tr>\n",
              "    <tr>\n",
              "      <th>next_pymnt_d</th>\n",
              "      <td>2</td>\n",
              "    </tr>\n",
              "    <tr>\n",
              "      <th>Target_Satisfied</th>\n",
              "      <td>2</td>\n",
              "    </tr>\n",
              "    <tr>\n",
              "      <th>term</th>\n",
              "      <td>2</td>\n",
              "    </tr>\n",
              "    <tr>\n",
              "      <th>Process Date</th>\n",
              "      <td>1</td>\n",
              "    </tr>\n",
              "    <tr>\n",
              "      <th>pymnt_plan</th>\n",
              "      <td>1</td>\n",
              "    </tr>\n",
              "  </tbody>\n",
              "</table>\n",
              "<p>83 rows × 1 columns</p>\n",
              "</div>"
            ],
            "text/plain": [
              "                            Value\n",
              "id                           2946\n",
              "orignal_website_directory    2946\n",
              "url                          2946\n",
              "your_favoritearticle_today   2945\n",
              "last_pymnt_amnt              2678\n",
              "...                           ...\n",
              "next_pymnt_d                    2\n",
              "Target_Satisfied                2\n",
              "term                            2\n",
              "Process Date                    1\n",
              "pymnt_plan                      1\n",
              "\n",
              "[83 rows x 1 columns]"
            ]
          },
          "metadata": {
            "tags": []
          },
          "execution_count": 7
        }
      ]
    },
    {
      "cell_type": "code",
      "metadata": {
        "colab": {
          "base_uri": "https://localhost:8080/"
        },
        "id": "CYtF-yGxVBAJ",
        "outputId": "cf3fcf62-1a80-401c-8f53-b48b6ab7653a"
      },
      "source": [
        "# it will print out number of rows and columns in the given dataset\n",
        "dataset.shape"
      ],
      "execution_count": 8,
      "outputs": [
        {
          "output_type": "execute_result",
          "data": {
            "text/plain": [
              "(2946, 83)"
            ]
          },
          "metadata": {
            "tags": []
          },
          "execution_count": 8
        }
      ]
    },
    {
      "cell_type": "code",
      "metadata": {
        "id": "0YsD4f9AZzP8"
      },
      "source": [
        "# It will drop the column pymnt_plan\n",
        "dataset.drop('pymnt_plan',\n",
        "  axis='columns', inplace=True)"
      ],
      "execution_count": 9,
      "outputs": []
    },
    {
      "cell_type": "code",
      "metadata": {
        "colab": {
          "base_uri": "https://localhost:8080/"
        },
        "id": "kp3IZF8_UjC1",
        "outputId": "debb9a08-eb4d-4f72-fb65-bbc2111f46fb"
      },
      "source": [
        "#It will drop all the columns which has NAN values\n",
        "dataset = dataset.dropna(axis='columns')\n",
        "dataset.shape"
      ],
      "execution_count": 10,
      "outputs": [
        {
          "output_type": "execute_result",
          "data": {
            "text/plain": [
              "(2946, 26)"
            ]
          },
          "metadata": {
            "tags": []
          },
          "execution_count": 10
        }
      ]
    },
    {
      "cell_type": "code",
      "metadata": {
        "colab": {
          "base_uri": "https://localhost:8080/"
        },
        "id": "qOa3xv--Yjk-",
        "outputId": "3ca9bc6f-7574-4fd9-e6f4-c6fc9e39d230"
      },
      "source": [
        "# check missing values in variables\n",
        "dataset.isnull().sum()\n"
      ],
      "execution_count": 11,
      "outputs": [
        {
          "output_type": "execute_result",
          "data": {
            "text/plain": [
              "id                           0\n",
              "Target_Salary                0\n",
              "Target_Satisfied             0\n",
              "LOAN_AMT                     0\n",
              "Business Title               0\n",
              "Civil Service Title          0\n",
              "Division/Work Unit           0\n",
              "Job Description              0\n",
              "CompanySize                  0\n",
              "term                         0\n",
              "loan_status                  0\n",
              "orignal_website_directory    0\n",
              "purpose                      0\n",
              "zip_code                     0\n",
              "addr_state                   0\n",
              "dti                          0\n",
              "earliest_cr_line             0\n",
              "last_pymnt_d                 0\n",
              "last_pymnt_amnt              0\n",
              "last_credit_pull_d           0\n",
              "Time                         0\n",
              "url                          0\n",
              "dateAdded                    0\n",
              "previousaddress              0\n",
              "phones                       0\n",
              "CrimeTime                    0\n",
              "dtype: int64"
            ]
          },
          "metadata": {
            "tags": []
          },
          "execution_count": 11
        }
      ]
    },
    {
      "cell_type": "code",
      "metadata": {
        "id": "Vzec07qIbFaW"
      },
      "source": [
        "# It will discribe the dataset\n",
        "# dataset.describe()"
      ],
      "execution_count": 13,
      "outputs": []
    },
    {
      "cell_type": "code",
      "metadata": {
        "id": "UjC6NczUbRQ3"
      },
      "source": [
        "# View summary of dataset\n",
        "# dataset.info()"
      ],
      "execution_count": 14,
      "outputs": []
    },
    {
      "cell_type": "code",
      "metadata": {
        "colab": {
          "base_uri": "https://localhost:8080/"
        },
        "id": "utcdlfyHgpFn",
        "outputId": "93c3ac72-70cb-403f-8d86-2e7da37e610a"
      },
      "source": [
        "#lets do Lable enconding coding to make more features \n",
        "le = LabelEncoder()\n",
        "le_count = 0\n",
        "\n",
        "# Iterate through the columns\n",
        "for col in dataset:\n",
        "    if dataset[col].dtype == 'object':\n",
        "        # If 2 or fewer unique categories\n",
        "        if len(list(dataset[col].unique())) <= 2:\n",
        "            # Train on the training data\n",
        "            le.fit(dataset[col])\n",
        "            # Transform both training and testing data\n",
        "            dataset[col] = le.transform(dataset[col])\n",
        "            \n",
        "            # Keep track of how many columns were label encoded\n",
        "            le_count += 1\n",
        "            \n",
        "print('%d columns were label encoded.' % le_count)\n"
      ],
      "execution_count": 15,
      "outputs": [
        {
          "output_type": "stream",
          "text": [
            "1 columns were label encoded.\n"
          ],
          "name": "stdout"
        }
      ]
    },
    {
      "cell_type": "code",
      "metadata": {
        "colab": {
          "base_uri": "https://localhost:8080/",
          "height": 753
        },
        "id": "IgrBFcTOjlzy",
        "outputId": "f4bf0186-7c8d-4e28-b36f-b7cb426f441f"
      },
      "source": [
        "sns.set(style=\"white\")\n",
        "\n",
        "# Set up the matplotlib figure\n",
        "f, ax = plt.subplots(figsize=(15, 15))\n",
        "\n",
        "# Generate a custom diverging colormap\n",
        "cmap = sns.diverging_palette(220, 10, as_cmap=True)\n",
        "\n",
        "sns.heatmap(dataset.corr(), cmap=cmap, vmax=.3, center=0,annot=True,\n",
        "            square=True, linewidths=.5, cbar_kws={\"shrink\": .5})"
      ],
      "execution_count": 16,
      "outputs": [
        {
          "output_type": "execute_result",
          "data": {
            "text/plain": [
              "<matplotlib.axes._subplots.AxesSubplot at 0x7f701a171810>"
            ]
          },
          "metadata": {
            "tags": []
          },
          "execution_count": 16
        },
        {
          "output_type": "display_data",
          "data": {
            "image/png": "[encoded data removed]",
            "text/plain": [
              "<Figure size 1080x1080 with 2 Axes>"
            ]
          },
          "metadata": {
            "tags": []
          }
        }
      ]
    },
    {
      "cell_type": "code",
      "metadata": {
        "id": "UXQwP7DtZPKI",
        "colab": {
          "base_uri": "https://localhost:8080/",
          "height": 253
        },
        "outputId": "94b9826d-9f79-46d1-ed90-7ce9ad3a9510"
      },
      "source": [
        "dataset = pd.get_dummies(dataset)\n",
        "dataset.head()\n"
      ],
      "execution_count": 18,
      "outputs": [
        {
          "output_type": "execute_result",
          "data": {
            "text/html": [
              "<div>\n",
              "<style scoped>\n",
              "    .dataframe tbody tr th:only-of-type {\n",
              "        vertical-align: middle;\n",
              "    }\n",
              "\n",
              "    .dataframe tbody tr th {\n",
              "        vertical-align: top;\n",
              "    }\n",
              "\n",
              "    .dataframe thead th {\n",
              "        text-align: right;\n",
              "    }\n",
              "</style>\n",
              "<table border=\"1\" class=\"dataframe\">\n",
              "  <thead>\n",
              "    <tr style=\"text-align: right;\">\n",
              "      <th></th>\n",
              "      <th>id</th>\n",
              "      <th>Target_Salary</th>\n",
              "      <th>Target_Satisfied</th>\n",
              "      <th>term</th>\n",
              "      <th>dti</th>\n",
              "      <th>last_pymnt_amnt</th>\n",
              "      <th>LOAN_AMT_$1,000.00</th>\n",
              "      <th>LOAN_AMT_$1,050.00</th>\n",
              "      <th>LOAN_AMT_$1,200.00</th>\n",
              "      <th>LOAN_AMT_$1,400.00</th>\n",
              "      <th>LOAN_AMT_$1,450.00</th>\n",
              "      <th>LOAN_AMT_$1,500.00</th>\n",
              "      <th>LOAN_AMT_$1,600.00</th>\n",
              "      <th>LOAN_AMT_$1,800.00</th>\n",
              "      <th>LOAN_AMT_$1,975.00</th>\n",
              "      <th>LOAN_AMT_$10,000.00</th>\n",
              "      <th>LOAN_AMT_$10,050.00</th>\n",
              "      <th>LOAN_AMT_$10,075.00</th>\n",
              "      <th>LOAN_AMT_$10,100.00</th>\n",
              "      <th>LOAN_AMT_$10,125.00</th>\n",
              "      <th>LOAN_AMT_$10,150.00</th>\n",
              "      <th>LOAN_AMT_$10,175.00</th>\n",
              "      <th>LOAN_AMT_$10,200.00</th>\n",
              "      <th>LOAN_AMT_$10,250.00</th>\n",
              "      <th>LOAN_AMT_$10,375.00</th>\n",
              "      <th>LOAN_AMT_$10,400.00</th>\n",
              "      <th>LOAN_AMT_$10,500.00</th>\n",
              "      <th>LOAN_AMT_$10,525.00</th>\n",
              "      <th>LOAN_AMT_$10,550.00</th>\n",
              "      <th>LOAN_AMT_$10,650.00</th>\n",
              "      <th>LOAN_AMT_$10,700.00</th>\n",
              "      <th>LOAN_AMT_$10,725.00</th>\n",
              "      <th>LOAN_AMT_$10,800.00</th>\n",
              "      <th>LOAN_AMT_$10,825.00</th>\n",
              "      <th>LOAN_AMT_$10,850.00</th>\n",
              "      <th>LOAN_AMT_$10,900.00</th>\n",
              "      <th>LOAN_AMT_$10,925.00</th>\n",
              "      <th>LOAN_AMT_$11,000.00</th>\n",
              "      <th>LOAN_AMT_$11,050.00</th>\n",
              "      <th>LOAN_AMT_$11,075.00</th>\n",
              "      <th>...</th>\n",
              "      <th>CrimeTime_8:32:00</th>\n",
              "      <th>CrimeTime_8:34:00</th>\n",
              "      <th>CrimeTime_8:40:00</th>\n",
              "      <th>CrimeTime_8:41:00</th>\n",
              "      <th>CrimeTime_8:42:00</th>\n",
              "      <th>CrimeTime_8:45:00</th>\n",
              "      <th>CrimeTime_8:48:00</th>\n",
              "      <th>CrimeTime_8:50:00</th>\n",
              "      <th>CrimeTime_8:52:00</th>\n",
              "      <th>CrimeTime_8:55:00</th>\n",
              "      <th>CrimeTime_8:57:00</th>\n",
              "      <th>CrimeTime_9:00:00</th>\n",
              "      <th>CrimeTime_9:01:00</th>\n",
              "      <th>CrimeTime_9:03:00</th>\n",
              "      <th>CrimeTime_9:04:00</th>\n",
              "      <th>CrimeTime_9:05:00</th>\n",
              "      <th>CrimeTime_9:06:00</th>\n",
              "      <th>CrimeTime_9:07:00</th>\n",
              "      <th>CrimeTime_9:09:00</th>\n",
              "      <th>CrimeTime_9:10:00</th>\n",
              "      <th>CrimeTime_9:15:00</th>\n",
              "      <th>CrimeTime_9:18:00</th>\n",
              "      <th>CrimeTime_9:20:00</th>\n",
              "      <th>CrimeTime_9:23:00</th>\n",
              "      <th>CrimeTime_9:25:00</th>\n",
              "      <th>CrimeTime_9:28:00</th>\n",
              "      <th>CrimeTime_9:30:00</th>\n",
              "      <th>CrimeTime_9:31:00</th>\n",
              "      <th>CrimeTime_9:34:00</th>\n",
              "      <th>CrimeTime_9:35:00</th>\n",
              "      <th>CrimeTime_9:39:00</th>\n",
              "      <th>CrimeTime_9:40:00</th>\n",
              "      <th>CrimeTime_9:42:00</th>\n",
              "      <th>CrimeTime_9:43:18</th>\n",
              "      <th>CrimeTime_9:45:00</th>\n",
              "      <th>CrimeTime_9:46:00</th>\n",
              "      <th>CrimeTime_9:47:00</th>\n",
              "      <th>CrimeTime_9:50:00</th>\n",
              "      <th>CrimeTime_9:55:00</th>\n",
              "      <th>CrimeTime_9:58:00</th>\n",
              "    </tr>\n",
              "  </thead>\n",
              "  <tbody>\n",
              "    <tr>\n",
              "      <th>0</th>\n",
              "      <td>68407277</td>\n",
              "      <td>42405.00</td>\n",
              "      <td>0</td>\n",
              "      <td>0</td>\n",
              "      <td>5.91</td>\n",
              "      <td>122.67</td>\n",
              "      <td>0</td>\n",
              "      <td>0</td>\n",
              "      <td>0</td>\n",
              "      <td>0</td>\n",
              "      <td>0</td>\n",
              "      <td>0</td>\n",
              "      <td>0</td>\n",
              "      <td>0</td>\n",
              "      <td>0</td>\n",
              "      <td>0</td>\n",
              "      <td>0</td>\n",
              "      <td>0</td>\n",
              "      <td>0</td>\n",
              "      <td>0</td>\n",
              "      <td>0</td>\n",
              "      <td>0</td>\n",
              "      <td>0</td>\n",
              "      <td>0</td>\n",
              "      <td>0</td>\n",
              "      <td>0</td>\n",
              "      <td>0</td>\n",
              "      <td>0</td>\n",
              "      <td>0</td>\n",
              "      <td>0</td>\n",
              "      <td>0</td>\n",
              "      <td>0</td>\n",
              "      <td>0</td>\n",
              "      <td>0</td>\n",
              "      <td>0</td>\n",
              "      <td>0</td>\n",
              "      <td>0</td>\n",
              "      <td>0</td>\n",
              "      <td>0</td>\n",
              "      <td>0</td>\n",
              "      <td>...</td>\n",
              "      <td>0</td>\n",
              "      <td>0</td>\n",
              "      <td>0</td>\n",
              "      <td>0</td>\n",
              "      <td>0</td>\n",
              "      <td>0</td>\n",
              "      <td>0</td>\n",
              "      <td>0</td>\n",
              "      <td>0</td>\n",
              "      <td>0</td>\n",
              "      <td>0</td>\n",
              "      <td>0</td>\n",
              "      <td>0</td>\n",
              "      <td>0</td>\n",
              "      <td>0</td>\n",
              "      <td>0</td>\n",
              "      <td>0</td>\n",
              "      <td>0</td>\n",
              "      <td>0</td>\n",
              "      <td>0</td>\n",
              "      <td>0</td>\n",
              "      <td>0</td>\n",
              "      <td>0</td>\n",
              "      <td>0</td>\n",
              "      <td>0</td>\n",
              "      <td>0</td>\n",
              "      <td>0</td>\n",
              "      <td>0</td>\n",
              "      <td>0</td>\n",
              "      <td>0</td>\n",
              "      <td>0</td>\n",
              "      <td>0</td>\n",
              "      <td>0</td>\n",
              "      <td>0</td>\n",
              "      <td>0</td>\n",
              "      <td>0</td>\n",
              "      <td>0</td>\n",
              "      <td>0</td>\n",
              "      <td>0</td>\n",
              "      <td>0</td>\n",
              "    </tr>\n",
              "    <tr>\n",
              "      <th>1</th>\n",
              "      <td>68355089</td>\n",
              "      <td>60740.00</td>\n",
              "      <td>1</td>\n",
              "      <td>0</td>\n",
              "      <td>16.06</td>\n",
              "      <td>926.35</td>\n",
              "      <td>0</td>\n",
              "      <td>0</td>\n",
              "      <td>0</td>\n",
              "      <td>0</td>\n",
              "      <td>0</td>\n",
              "      <td>0</td>\n",
              "      <td>0</td>\n",
              "      <td>0</td>\n",
              "      <td>0</td>\n",
              "      <td>0</td>\n",
              "      <td>0</td>\n",
              "      <td>0</td>\n",
              "      <td>0</td>\n",
              "      <td>0</td>\n",
              "      <td>0</td>\n",
              "      <td>0</td>\n",
              "      <td>0</td>\n",
              "      <td>0</td>\n",
              "      <td>0</td>\n",
              "      <td>0</td>\n",
              "      <td>0</td>\n",
              "      <td>0</td>\n",
              "      <td>0</td>\n",
              "      <td>0</td>\n",
              "      <td>0</td>\n",
              "      <td>0</td>\n",
              "      <td>0</td>\n",
              "      <td>0</td>\n",
              "      <td>0</td>\n",
              "      <td>0</td>\n",
              "      <td>0</td>\n",
              "      <td>0</td>\n",
              "      <td>0</td>\n",
              "      <td>0</td>\n",
              "      <td>...</td>\n",
              "      <td>0</td>\n",
              "      <td>0</td>\n",
              "      <td>0</td>\n",
              "      <td>0</td>\n",
              "      <td>0</td>\n",
              "      <td>0</td>\n",
              "      <td>0</td>\n",
              "      <td>0</td>\n",
              "      <td>0</td>\n",
              "      <td>0</td>\n",
              "      <td>0</td>\n",
              "      <td>0</td>\n",
              "      <td>0</td>\n",
              "      <td>0</td>\n",
              "      <td>0</td>\n",
              "      <td>0</td>\n",
              "      <td>0</td>\n",
              "      <td>0</td>\n",
              "      <td>0</td>\n",
              "      <td>0</td>\n",
              "      <td>0</td>\n",
              "      <td>0</td>\n",
              "      <td>0</td>\n",
              "      <td>0</td>\n",
              "      <td>0</td>\n",
              "      <td>0</td>\n",
              "      <td>0</td>\n",
              "      <td>0</td>\n",
              "      <td>0</td>\n",
              "      <td>0</td>\n",
              "      <td>0</td>\n",
              "      <td>0</td>\n",
              "      <td>0</td>\n",
              "      <td>0</td>\n",
              "      <td>0</td>\n",
              "      <td>0</td>\n",
              "      <td>0</td>\n",
              "      <td>0</td>\n",
              "      <td>0</td>\n",
              "      <td>0</td>\n",
              "    </tr>\n",
              "    <tr>\n",
              "      <th>2</th>\n",
              "      <td>68341763</td>\n",
              "      <td>51907.68</td>\n",
              "      <td>0</td>\n",
              "      <td>1</td>\n",
              "      <td>10.78</td>\n",
              "      <td>15813.30</td>\n",
              "      <td>0</td>\n",
              "      <td>0</td>\n",
              "      <td>0</td>\n",
              "      <td>0</td>\n",
              "      <td>0</td>\n",
              "      <td>0</td>\n",
              "      <td>0</td>\n",
              "      <td>0</td>\n",
              "      <td>0</td>\n",
              "      <td>0</td>\n",
              "      <td>0</td>\n",
              "      <td>0</td>\n",
              "      <td>0</td>\n",
              "      <td>0</td>\n",
              "      <td>0</td>\n",
              "      <td>0</td>\n",
              "      <td>0</td>\n",
              "      <td>0</td>\n",
              "      <td>0</td>\n",
              "      <td>0</td>\n",
              "      <td>0</td>\n",
              "      <td>0</td>\n",
              "      <td>0</td>\n",
              "      <td>0</td>\n",
              "      <td>0</td>\n",
              "      <td>0</td>\n",
              "      <td>0</td>\n",
              "      <td>0</td>\n",
              "      <td>0</td>\n",
              "      <td>0</td>\n",
              "      <td>0</td>\n",
              "      <td>0</td>\n",
              "      <td>0</td>\n",
              "      <td>0</td>\n",
              "      <td>...</td>\n",
              "      <td>0</td>\n",
              "      <td>0</td>\n",
              "      <td>0</td>\n",
              "      <td>0</td>\n",
              "      <td>0</td>\n",
              "      <td>0</td>\n",
              "      <td>0</td>\n",
              "      <td>0</td>\n",
              "      <td>0</td>\n",
              "      <td>0</td>\n",
              "      <td>0</td>\n",
              "      <td>0</td>\n",
              "      <td>0</td>\n",
              "      <td>0</td>\n",
              "      <td>0</td>\n",
              "      <td>0</td>\n",
              "      <td>0</td>\n",
              "      <td>0</td>\n",
              "      <td>0</td>\n",
              "      <td>0</td>\n",
              "      <td>0</td>\n",
              "      <td>0</td>\n",
              "      <td>0</td>\n",
              "      <td>0</td>\n",
              "      <td>0</td>\n",
              "      <td>0</td>\n",
              "      <td>0</td>\n",
              "      <td>0</td>\n",
              "      <td>0</td>\n",
              "      <td>0</td>\n",
              "      <td>0</td>\n",
              "      <td>0</td>\n",
              "      <td>0</td>\n",
              "      <td>0</td>\n",
              "      <td>0</td>\n",
              "      <td>0</td>\n",
              "      <td>0</td>\n",
              "      <td>0</td>\n",
              "      <td>0</td>\n",
              "      <td>0</td>\n",
              "    </tr>\n",
              "    <tr>\n",
              "      <th>3</th>\n",
              "      <td>66310712</td>\n",
              "      <td>51907.68</td>\n",
              "      <td>0</td>\n",
              "      <td>1</td>\n",
              "      <td>17.06</td>\n",
              "      <td>829.90</td>\n",
              "      <td>0</td>\n",
              "      <td>0</td>\n",
              "      <td>0</td>\n",
              "      <td>0</td>\n",
              "      <td>0</td>\n",
              "      <td>0</td>\n",
              "      <td>0</td>\n",
              "      <td>0</td>\n",
              "      <td>0</td>\n",
              "      <td>0</td>\n",
              "      <td>0</td>\n",
              "      <td>0</td>\n",
              "      <td>0</td>\n",
              "      <td>0</td>\n",
              "      <td>0</td>\n",
              "      <td>0</td>\n",
              "      <td>0</td>\n",
              "      <td>0</td>\n",
              "      <td>0</td>\n",
              "      <td>0</td>\n",
              "      <td>0</td>\n",
              "      <td>0</td>\n",
              "      <td>0</td>\n",
              "      <td>0</td>\n",
              "      <td>0</td>\n",
              "      <td>0</td>\n",
              "      <td>0</td>\n",
              "      <td>0</td>\n",
              "      <td>0</td>\n",
              "      <td>0</td>\n",
              "      <td>0</td>\n",
              "      <td>0</td>\n",
              "      <td>0</td>\n",
              "      <td>0</td>\n",
              "      <td>...</td>\n",
              "      <td>0</td>\n",
              "      <td>0</td>\n",
              "      <td>0</td>\n",
              "      <td>0</td>\n",
              "      <td>0</td>\n",
              "      <td>0</td>\n",
              "      <td>0</td>\n",
              "      <td>0</td>\n",
              "      <td>0</td>\n",
              "      <td>0</td>\n",
              "      <td>0</td>\n",
              "      <td>0</td>\n",
              "      <td>0</td>\n",
              "      <td>0</td>\n",
              "      <td>0</td>\n",
              "      <td>0</td>\n",
              "      <td>0</td>\n",
              "      <td>0</td>\n",
              "      <td>0</td>\n",
              "      <td>0</td>\n",
              "      <td>0</td>\n",
              "      <td>0</td>\n",
              "      <td>0</td>\n",
              "      <td>0</td>\n",
              "      <td>0</td>\n",
              "      <td>0</td>\n",
              "      <td>0</td>\n",
              "      <td>0</td>\n",
              "      <td>0</td>\n",
              "      <td>0</td>\n",
              "      <td>0</td>\n",
              "      <td>0</td>\n",
              "      <td>0</td>\n",
              "      <td>0</td>\n",
              "      <td>0</td>\n",
              "      <td>0</td>\n",
              "      <td>0</td>\n",
              "      <td>0</td>\n",
              "      <td>0</td>\n",
              "      <td>0</td>\n",
              "    </tr>\n",
              "    <tr>\n",
              "      <th>4</th>\n",
              "      <td>68476807</td>\n",
              "      <td>35.00</td>\n",
              "      <td>1</td>\n",
              "      <td>1</td>\n",
              "      <td>25.37</td>\n",
              "      <td>10128.96</td>\n",
              "      <td>0</td>\n",
              "      <td>0</td>\n",
              "      <td>0</td>\n",
              "      <td>0</td>\n",
              "      <td>0</td>\n",
              "      <td>0</td>\n",
              "      <td>0</td>\n",
              "      <td>0</td>\n",
              "      <td>0</td>\n",
              "      <td>0</td>\n",
              "      <td>0</td>\n",
              "      <td>0</td>\n",
              "      <td>0</td>\n",
              "      <td>0</td>\n",
              "      <td>0</td>\n",
              "      <td>0</td>\n",
              "      <td>0</td>\n",
              "      <td>0</td>\n",
              "      <td>0</td>\n",
              "      <td>1</td>\n",
              "      <td>0</td>\n",
              "      <td>0</td>\n",
              "      <td>0</td>\n",
              "      <td>0</td>\n",
              "      <td>0</td>\n",
              "      <td>0</td>\n",
              "      <td>0</td>\n",
              "      <td>0</td>\n",
              "      <td>0</td>\n",
              "      <td>0</td>\n",
              "      <td>0</td>\n",
              "      <td>0</td>\n",
              "      <td>0</td>\n",
              "      <td>0</td>\n",
              "      <td>...</td>\n",
              "      <td>0</td>\n",
              "      <td>0</td>\n",
              "      <td>0</td>\n",
              "      <td>0</td>\n",
              "      <td>0</td>\n",
              "      <td>0</td>\n",
              "      <td>0</td>\n",
              "      <td>0</td>\n",
              "      <td>0</td>\n",
              "      <td>0</td>\n",
              "      <td>0</td>\n",
              "      <td>0</td>\n",
              "      <td>0</td>\n",
              "      <td>0</td>\n",
              "      <td>0</td>\n",
              "      <td>0</td>\n",
              "      <td>0</td>\n",
              "      <td>0</td>\n",
              "      <td>0</td>\n",
              "      <td>0</td>\n",
              "      <td>0</td>\n",
              "      <td>0</td>\n",
              "      <td>0</td>\n",
              "      <td>0</td>\n",
              "      <td>0</td>\n",
              "      <td>0</td>\n",
              "      <td>0</td>\n",
              "      <td>0</td>\n",
              "      <td>0</td>\n",
              "      <td>0</td>\n",
              "      <td>0</td>\n",
              "      <td>0</td>\n",
              "      <td>0</td>\n",
              "      <td>0</td>\n",
              "      <td>0</td>\n",
              "      <td>0</td>\n",
              "      <td>0</td>\n",
              "      <td>0</td>\n",
              "      <td>0</td>\n",
              "      <td>0</td>\n",
              "    </tr>\n",
              "  </tbody>\n",
              "</table>\n",
              "<p>5 rows × 13024 columns</p>\n",
              "</div>"
            ],
            "text/plain": [
              "         id  Target_Salary  ...  CrimeTime_9:55:00  CrimeTime_9:58:00\n",
              "0  68407277       42405.00  ...                  0                  0\n",
              "1  68355089       60740.00  ...                  0                  0\n",
              "2  68341763       51907.68  ...                  0                  0\n",
              "3  66310712       51907.68  ...                  0                  0\n",
              "4  68476807          35.00  ...                  0                  0\n",
              "\n",
              "[5 rows x 13024 columns]"
            ]
          },
          "metadata": {
            "tags": []
          },
          "execution_count": 18
        }
      ]
    },
    {
      "cell_type": "code",
      "metadata": {
        "id": "mX7erPPkkIx9"
      },
      "source": [
        "corr= dataset.corr()\n",
        "y=np.array(dataset['Target_Satisfied'])\n",
        "X= np.array(dataset.drop('Target_Satisfied',axis=1))"
      ],
      "execution_count": null,
      "outputs": []
    },
    {
      "cell_type": "code",
      "metadata": {
        "id": "0ELg9iQZkcLh"
      },
      "source": [
        "from sklearn.model_selection import train_test_split\n",
        "\n",
        "X_train, X_test, y_train, y_test = train_test_split(X, y, test_size = 0.20, random_state = 42)\n",
        "X_train.shape, X_test.shape\n"
      ],
      "execution_count": null,
      "outputs": []
    },
    {
      "cell_type": "code",
      "metadata": {
        "id": "Npvu3phJtYp6"
      },
      "source": [
        "X_train.dtypes"
      ],
      "execution_count": null,
      "outputs": []
    },
    {
      "cell_type": "code",
      "metadata": {
        "id": "Sk5591Aao8SS"
      },
      "source": [
        "# import Random Forest classifier\n",
        "from sklearn.ensemble import RandomForestClassifier\n",
        "# instantiate the classifier \n",
        "rfc = RandomForestClassifier(n_estimators=100,random_state=0)\n",
        "\n",
        "# fit the model\n",
        "rfc.fit(X_train, y_train)\n",
        "\n",
        "# Predict the Test set results\n",
        "y_pred = rfc.predict(X_test)\n",
        "\n",
        "# Check accuracy score \n",
        "from sklearn.metrics import accuracy_score\n",
        "print('Model accuracy score with 10 decision-trees : {0:0.4f}'. format(accuracy_score(y_test, y_pred)))"
      ],
      "execution_count": null,
      "outputs": []
    },
    {
      "cell_type": "code",
      "metadata": {
        "id": "WFY7nbL7rJE8"
      },
      "source": [
        "# view the feature scores\n",
        "\n",
        "feature_scores = pd.Series(clf.feature_importances_, index=X_train.columns).sort_values(ascending=False)\n",
        "\n",
        "feature_scores"
      ],
      "execution_count": null,
      "outputs": []
    },
    {
      "cell_type": "code",
      "metadata": {
        "id": "VODJ23ClrPXC"
      },
      "source": [
        "# Creating a seaborn bar plot\n",
        "sns.barplot(x=feature_scores, y=feature_scores.index)\n",
        "\n",
        "# Add labels to the graph\n",
        "plt.xlabel('Feature Importance Score')\n",
        "plt.ylabel('Features')\n",
        "\n",
        "# Add title to the graph\n",
        "plt.title(\"Visualizing Important Features\")\n",
        "\n",
        "# Visualize the graph\n",
        "plt.show()"
      ],
      "execution_count": null,
      "outputs": []
    },
    {
      "cell_type": "code",
      "metadata": {
        "id": "9fKfzEdnAwCx"
      },
      "source": [
        "from sklearn.metrics import confusion_matrix\n",
        "\n",
        "cm = confusion_matrix(y_test, y_pred)\n",
        "\n",
        "print('Confusion matrix\\n\\n', cm)"
      ],
      "execution_count": null,
      "outputs": []
    },
    {
      "cell_type": "code",
      "metadata": {
        "id": "SJElL3UvAxZO"
      },
      "source": [
        "from sklearn.metrics import classification_report\n",
        "\n",
        "print(classification_report(y_test, y_pred))"
      ],
      "execution_count": null,
      "outputs": []
    },
    {
      "cell_type": "code",
      "metadata": {
        "id": "G7p0yM-7A1pd"
      },
      "source": [
        ""
      ],
      "execution_count": null,
      "outputs": []
    }
  ]
}